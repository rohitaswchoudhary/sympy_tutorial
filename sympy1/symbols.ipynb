{
  "nbformat": 4,
  "nbformat_minor": 0,
  "metadata": {
    "orig_nbformat": 2,
    "kernelspec": {
      "name": "python3",
      "display_name": "Python 3"
    },
    "metadata": {
      "interpreter": {
        "hash": "69b692ee06140e9572ddda769f4af16c7af273f6754e39765a6c28a727cb14d9"
      }
    },
    "colab": {
      "name": "symbols.ipynb",
      "provenance": [],
      "include_colab_link": true
    },
    "language_info": {
      "name": "python"
    }
  },
  "cells": [
    {
      "cell_type": "markdown",
      "metadata": {
        "id": "view-in-github",
        "colab_type": "text"
      },
      "source": [
        "<a href=\"https://colab.research.google.com/github/rohitaswchoudhary/sympy_tutorial/blob/main/sympy1/symbols.ipynb\" target=\"_parent\"><img src=\"https://colab.research.google.com/assets/colab-badge.svg\" alt=\"Open In Colab\"/></a>"
      ]
    },
    {
      "cell_type": "code",
      "metadata": {
        "id": "3KjSkxdRqzPb"
      },
      "source": [
        "from sympy import *"
      ],
      "execution_count": 2,
      "outputs": []
    },
    {
      "cell_type": "code",
      "metadata": {
        "id": "bjtZdmfFqzPe",
        "outputId": "42b3e99b-dbda-4200-e5d8-b8f92ebadfe3",
        "colab": {
          "base_uri": "https://localhost:8080/"
        }
      },
      "source": [
        "x, y, z = symbols(\"x y z\")\n",
        "\n",
        "# substitution\n",
        "\n",
        "expr = cos(x)+1\n",
        "print(expr)\n",
        "s=expr.subs(x,0)\n",
        "print(s)\n",
        "print(s)"
      ],
      "execution_count": 3,
      "outputs": [
        {
          "output_type": "stream",
          "text": [
            "cos(x) + 1\n",
            "2\n",
            "2\n"
          ],
          "name": "stdout"
        }
      ]
    },
    {
      "cell_type": "code",
      "metadata": {
        "id": "4iZ5ggF_qzPg",
        "outputId": "2daeeb71-bd72-4dad-e608-456b628a125c"
      },
      "source": [
        "expr = sin(2*x)+ cos(2*x)\n",
        "print(expand_trig(expr))\n",
        "\n",
        "print(expr.subs(sin(2*x),2*sin(x)*cos(x)))"
      ],
      "execution_count": null,
      "outputs": [
        {
          "output_type": "stream",
          "text": [
            "2*sin(x)*cos(x) + 2*cos(x)**2 - 1\n",
            "2*sin(x)*cos(x) + cos(2*x)\n"
          ],
          "name": "stdout"
        }
      ]
    },
    {
      "cell_type": "code",
      "metadata": {
        "id": "TCpi5Dm6qzPh",
        "outputId": "fcdb3f7c-1b3b-407b-f6db-0395b0760015"
      },
      "source": [
        "expr = sqrt(8)\n",
        "print(expr.evalf())"
      ],
      "execution_count": null,
      "outputs": [
        {
          "output_type": "stream",
          "text": [
            "2.82842712474619\n"
          ],
          "name": "stdout"
        }
      ]
    },
    {
      "cell_type": "code",
      "metadata": {
        "id": "YKYghbQDqzPi",
        "outputId": "2cbe1155-3856-4bf7-d616-9c249f85b0f1"
      },
      "source": [
        "print(pi.evalf(100))"
      ],
      "execution_count": null,
      "outputs": [
        {
          "output_type": "stream",
          "text": [
            "3.141592653589793238462643383279502884197169399375105820974944592307816406286208998628034825342117068\n"
          ],
          "name": "stdout"
        }
      ]
    },
    {
      "cell_type": "code",
      "metadata": {
        "id": "ivH9rEQZqzPi",
        "outputId": "d82eb4a9-4e31-4d21-99d4-76eaab55b89d"
      },
      "source": [
        "one = cos(1)*2+sin(1)*2\n",
        "print((one-1).evalf())"
      ],
      "execution_count": null,
      "outputs": [
        {
          "output_type": "stream",
          "text": [
            "1.76354658135207\n"
          ],
          "name": "stdout"
        }
      ]
    },
    {
      "cell_type": "code",
      "metadata": {
        "id": "qVWFM2YiqzPj",
        "outputId": "7dac3a4b-75bf-4d51-96bc-34a0eeb7028f"
      },
      "source": [
        "# Lambdify\n",
        "\n",
        "import numpy as np\n",
        "a = np.arange(10)\n",
        "expr = sin(x)\n",
        "f = lambdify(x,expr,\"numpy\")\n",
        "print(f(a))"
      ],
      "execution_count": null,
      "outputs": [
        {
          "output_type": "stream",
          "text": [
            "[ 0.          0.84147098  0.90929743  0.14112001 -0.7568025  -0.95892427\n",
            " -0.2794155   0.6569866   0.98935825  0.41211849]\n"
          ],
          "name": "stdout"
        }
      ]
    },
    {
      "cell_type": "code",
      "metadata": {
        "id": "DihMIFhrqzPk",
        "outputId": "db143d87-48ba-4427-dfe0-f264e9e43eab"
      },
      "source": [
        "f = lambdify(x,expr,\"math\")\n",
        "print(f(0.1))"
      ],
      "execution_count": null,
      "outputs": [
        {
          "output_type": "stream",
          "text": [
            "0.09983341664682815\n"
          ],
          "name": "stdout"
        }
      ]
    },
    {
      "cell_type": "code",
      "metadata": {
        "id": "iQ-bvv2uqzPk",
        "outputId": "6a233698-263f-432c-c4c3-50407436901f"
      },
      "source": [
        "def mysin(x):\n",
        "    return x\n",
        "\n",
        "f = lambdify(x,expr,{'sin':mysin})\n",
        "print(0.1)\n"
      ],
      "execution_count": null,
      "outputs": [
        {
          "output_type": "stream",
          "text": [
            "0.1\n"
          ],
          "name": "stdout"
        }
      ]
    },
    {
      "cell_type": "code",
      "metadata": {
        "id": "9icDu3HpqzPl"
      },
      "source": [
        ""
      ],
      "execution_count": null,
      "outputs": []
    }
  ]
}