{
 "metadata": {
  "language_info": {
   "codemirror_mode": {
    "name": "ipython",
    "version": 3
   },
   "file_extension": ".py",
   "mimetype": "text/x-python",
   "name": "python",
   "nbconvert_exporter": "python",
   "pygments_lexer": "ipython3",
   "version": "3.9.3"
  },
  "orig_nbformat": 2,
  "kernelspec": {
   "name": "pythonjvsc74a57bd069b692ee06140e9572ddda769f4af16c7af273f6754e39765a6c28a727cb14d9",
   "display_name": "Python 3.9.3  ('myenv': venv)"
  },
  "metadata": {
   "interpreter": {
    "hash": "69b692ee06140e9572ddda769f4af16c7af273f6754e39765a6c28a727cb14d9"
   }
  }
 },
 "nbformat": 4,
 "nbformat_minor": 2,
 "cells": [
  {
   "cell_type": "code",
   "execution_count": 3,
   "metadata": {},
   "outputs": [],
   "source": [
    "from sympy import *"
   ]
  },
  {
   "cell_type": "code",
   "execution_count": 4,
   "metadata": {},
   "outputs": [
    {
     "output_type": "stream",
     "name": "stdout",
     "text": [
      "cos(x) + 1\n2\n"
     ]
    }
   ],
   "source": [
    "x, y, z = symbols(\"x y z\")\n",
    "\n",
    "# substitution\n",
    "\n",
    "expr = cos(x)+1\n",
    "print(expr)\n",
    "s=expr.subs(x,0)\n",
    "print(s)"
   ]
  },
  {
   "cell_type": "code",
   "execution_count": 5,
   "metadata": {},
   "outputs": [
    {
     "output_type": "stream",
     "name": "stdout",
     "text": [
      "2*sin(x)*cos(x) + 2*cos(x)**2 - 1\n2*sin(x)*cos(x) + cos(2*x)\n"
     ]
    }
   ],
   "source": [
    "expr = sin(2*x)+ cos(2*x)\n",
    "print(expand_trig(expr))\n",
    "\n",
    "print(expr.subs(sin(2*x),2*sin(x)*cos(x)))"
   ]
  },
  {
   "cell_type": "code",
   "execution_count": 6,
   "metadata": {},
   "outputs": [
    {
     "output_type": "stream",
     "name": "stdout",
     "text": [
      "2.82842712474619\n"
     ]
    }
   ],
   "source": [
    "expr = sqrt(8)\n",
    "print(expr.evalf())"
   ]
  },
  {
   "cell_type": "code",
   "execution_count": 7,
   "metadata": {},
   "outputs": [
    {
     "output_type": "stream",
     "name": "stdout",
     "text": [
      "3.141592653589793238462643383279502884197169399375105820974944592307816406286208998628034825342117068\n"
     ]
    }
   ],
   "source": [
    "print(pi.evalf(100))"
   ]
  },
  {
   "cell_type": "code",
   "execution_count": 8,
   "metadata": {},
   "outputs": [
    {
     "output_type": "stream",
     "name": "stdout",
     "text": [
      "1.76354658135207\n"
     ]
    }
   ],
   "source": [
    "one = cos(1)*2+sin(1)*2\n",
    "print((one-1).evalf())"
   ]
  },
  {
   "cell_type": "code",
   "execution_count": 11,
   "metadata": {},
   "outputs": [
    {
     "output_type": "stream",
     "name": "stdout",
     "text": [
      "[ 0.          0.84147098  0.90929743  0.14112001 -0.7568025  -0.95892427\n -0.2794155   0.6569866   0.98935825  0.41211849]\n"
     ]
    }
   ],
   "source": [
    "# Lambdify\n",
    "\n",
    "import numpy as np\n",
    "a = np.arange(10)\n",
    "expr = sin(x)\n",
    "f = lambdify(x,expr,\"numpy\")\n",
    "print(f(a))"
   ]
  },
  {
   "cell_type": "code",
   "execution_count": 12,
   "metadata": {},
   "outputs": [
    {
     "output_type": "stream",
     "name": "stdout",
     "text": [
      "0.09983341664682815\n"
     ]
    }
   ],
   "source": [
    "f = lambdify(x,expr,\"math\")\n",
    "print(f(0.1))"
   ]
  },
  {
   "cell_type": "code",
   "execution_count": 13,
   "metadata": {},
   "outputs": [
    {
     "output_type": "stream",
     "name": "stdout",
     "text": [
      "0.1\n"
     ]
    }
   ],
   "source": [
    "def mysin(x):\n",
    "    return x\n",
    "\n",
    "f = lambdify(x,expr,{'sin':mysin})\n",
    "print(0.1)\n"
   ]
  },
  {
   "cell_type": "code",
   "execution_count": null,
   "metadata": {},
   "outputs": [],
   "source": []
  }
 ]
}