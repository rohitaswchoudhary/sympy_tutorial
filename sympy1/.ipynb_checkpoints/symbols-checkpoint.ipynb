{
 "metadata": {
  "language_info": {
   "codemirror_mode": {
    "name": "ipython",
    "version": 3
   },
   "file_extension": ".py",
   "mimetype": "text/x-python",
   "name": "python",
   "nbconvert_exporter": "python",
   "pygments_lexer": "ipython3",
   "version": "3.9.3"
  },
  "orig_nbformat": 2,
  "kernelspec": {
   "name": "pythonjvsc74a57bd069b692ee06140e9572ddda769f4af16c7af273f6754e39765a6c28a727cb14d9",
   "display_name": "Python 3.9.3  ('myenv': venv)"
  },
  "metadata": {
   "interpreter": {
    "hash": "69b692ee06140e9572ddda769f4af16c7af273f6754e39765a6c28a727cb14d9"
   }
  }
 },
 "nbformat": 4,
 "nbformat_minor": 2,
 "cells": [
  {
   "cell_type": "code",
   "execution_count": null,
   "metadata": {},
   "outputs": [],
   "source": [
    "print(\"rohit\")"
   ]
  }
 ]
}